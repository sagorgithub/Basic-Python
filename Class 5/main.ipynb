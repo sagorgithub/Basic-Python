{
 "cells": [
  {
   "cell_type": "markdown",
   "id": "d86476b1",
   "metadata": {},
   "source": [
    "<b>Operators In Python</b></br>\n",
    "#1. Arithmrtic Operators<br>\n",
    "#2. Identity Operators<br>\n",
    "#3. Bitwise Operators<br>\n",
    "#4. Comparison Operators<br>\n",
    "#5. Logical Operators<br>\n",
    "#6. Assignment Operators<br>"
   ]
  },
  {
   "cell_type": "markdown",
   "id": "498c72c8",
   "metadata": {},
   "source": [
    "<b>#1. Arithmrtic Operators</b></br>\n",
    "    #Addition(+) #x+y</br>\n",
    "    #Subtraction(-) #(x-y)</br>\n",
    "    #Multiplication(*) #x*y</br>\n",
    "    #division(/) #x/y</br>\n",
    "    #Modulus(%) #x%y</br>\n",
    "    #Exponentiation(**) #x**y</br>\n",
    "    #Floor Division(//) #x//y</br>"
   ]
  },
  {
   "cell_type": "markdown",
   "id": "b46fce38",
   "metadata": {},
   "source": [
    "<b>#1. Identity Operators</b></br>\n",
    "#<b>Is: </b>is-Returns true if both variables are the same object. (x is y)</br>\n",
    "#<b>is not: </b> is not - Returns true if both variables are not the same Object (x is not y)\n",
    "    "
   ]
  },
  {
   "cell_type": "markdown",
   "id": "bc5a6356",
   "metadata": {},
   "source": [
    "<b>#3. Bitwise Operators</b></br>\n",
    "#<b>& (AND) </b>Set each bit to 1 if both bits are 1</br>\n",
    "#<b>| OR: </b> Set each bit to 1 if one of two bits is 1</br>\n",
    "#<b>^ XOR: </b> Set each bit to 1 if only one of two bits is 1</br>\n",
    "#<b>~ NOT: </b> Inverts all the bits</br>\n",
    "#<b><< Zero file left shift: </b> Shift left by pushing zeros in from the right and let the leftmost bits fall off shift</br>\n",
    "#<b>>> Signed right shift: </b> Shift right by pushing copies of the leftmost bit in from the left, and let the rightmost bits fall off</br>\n",
    "    "
   ]
  },
  {
   "cell_type": "markdown",
   "id": "d1a607b2",
   "metadata": {},
   "source": [
    "<b>#4. Comparison Operators</b></br>\n",
    "#<b> == (Equal): </b> x == y</br>\n",
    "#<b> != (Not Equal): </b> x != y</br>\n",
    "#<b> > (Greater Than): </b> x > y</br>\n",
    "#<b> < (Leaa Than): </b> x < y</br>\n",
    "#<b> >= (Greater Than or equal to): </b> x >= y</br>\n",
    "#<b> <= (Leaa Than or equal to): </b> x <= y</br>\n",
    "    "
   ]
  },
  {
   "cell_type": "markdown",
   "id": "fd26b69d",
   "metadata": {},
   "source": [
    "<b>#5. Logical Operators</b></br>\n",
    "#<b>and: </b> Returns True if both statements are true (x < 5 and x < 10)</br>\n",
    "#<b>or: </b> Returns True if one of the statements is true (x < 5 and x < 10)</br>\n",
    "#<b>not: </b> Reverse the result, Returns False if the not result is true (x < 5 and x < 10)</br>\n",
    "    "
   ]
  },
  {
   "cell_type": "markdown",
   "id": "0b6e87b9",
   "metadata": {},
   "source": [
    "<b>#6. Assignment Operators</b></br>\n",
    "#<b>==: </b> x = 5 (x = 5)</br>\n",
    "#<b>+=: </b> x += 5 (x = x + 5)</br>\n",
    "#<b>-=: </b> x -= 5 (x = x - 5)</br>\n",
    "#<b>*=: </b> x *= 5 (x = x * 5)</br>\n",
    "#<b>/=: </b> x /= 5 (x = x / 5)</br>\n",
    "#<b>%=: </b> x %= 5 (x = x % 5)</br>\n",
    "#<b>//=: </b> x //= 5 (x = x // 5)</br>\n",
    "#<b>**=: </b> x **= 5 (x = x ** 5)</br>\n",
    "#<b>&=: </b> x &= 5 (x = x & 5)</br>\n",
    "#<b>|=: </b> x |= 5 (x = x | 5)</br>\n",
    "#<b>>>=: </b> x >>= 5 (x = x >> 5)</br>\n",
    "#<b><<=: </b> x <<= 5 (x << x + 5)</br>\n",
    "#<b>+=: </b> x += 5 (x = x + 5)</br>\n",
    "    "
   ]
  }
 ],
 "metadata": {
  "language_info": {
   "name": "python"
  }
 },
 "nbformat": 4,
 "nbformat_minor": 5
}
