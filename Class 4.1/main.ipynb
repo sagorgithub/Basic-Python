{
 "cells": [
  {
   "cell_type": "markdown",
   "id": "12fa6ff6",
   "metadata": {},
   "source": [
    "#<b>All About Data Type In Python</b> <br>\n",
    "#1. Numeric Data<br>\n",
    "#2. Boolean Data<br>\n",
    "#3. Sequence Data<br>\n",
    "#4. Set Data<br>\n",
    "#5. Mapping Data<br>\n",
    "#6. Data Frame<br>"
   ]
  },
  {
   "cell_type": "markdown",
   "id": "c2f5d772",
   "metadata": {},
   "source": [
    "#<b>3. Sequence Data Types</b><br>\n",
    "#1. <b>Lists:</b> Lists are used to store multiple items in a single variable.<br>\n",
    "#2. <b>Tuples:</b> Tuples are used to store multiple items in a single variable<br>\n",
    "#3. <b>Range:</b> The range() function returns a sequence of numbers, starting from 0 by default, and increments by 1 (by default), and stops before a specified number.<br>\n",
    "#4. <b>Arrays:</b> Arrays are sequence types and behave very much like lists.<br>\n",
    "#5. <b>String:</b> A string in Python is a sequence of characters. It is a derived data type. Strings are immutable. This means that once defined, they connot be changed."
   ]
  },
  {
   "cell_type": "markdown",
   "id": "de1ab966",
   "metadata": {},
   "source": [
    "#<b>Sequence Data Types</b><br>"
   ]
  },
  {
   "cell_type": "code",
   "execution_count": null,
   "id": "0085c187",
   "metadata": {},
   "outputs": [
    {
     "name": "stdout",
     "output_type": "stream",
     "text": [
      "[1, 2, 3, True, ['sagor', 'pagol'], False, 'karent nai to ki korbi']\n"
     ]
    }
   ],
   "source": [
    "#List:[]\n",
    "list = [1, 2, 3, True, ['sagor', 'pagol'], False, 'karent nai to ki korbi']\n",
    "print(list);"
   ]
  },
  {
   "cell_type": "code",
   "execution_count": 3,
   "id": "d448cfee",
   "metadata": {},
   "outputs": [
    {
     "name": "stdout",
     "output_type": "stream",
     "text": [
      "karent nai to ki korbi\n"
     ]
    }
   ],
   "source": [
    "print(list[-1]);"
   ]
  },
  {
   "cell_type": "code",
   "execution_count": 4,
   "id": "17f772ae",
   "metadata": {},
   "outputs": [
    {
     "name": "stdout",
     "output_type": "stream",
     "text": [
      "['sagor', 'pagol']\n"
     ]
    }
   ],
   "source": [
    "print(list[4]);"
   ]
  },
  {
   "cell_type": "code",
   "execution_count": 5,
   "id": "194f3788",
   "metadata": {},
   "outputs": [
    {
     "name": "stdout",
     "output_type": "stream",
     "text": [
      "False\n"
     ]
    }
   ],
   "source": [
    "print(list[5]);"
   ]
  },
  {
   "cell_type": "code",
   "execution_count": 6,
   "id": "3ad932b0",
   "metadata": {},
   "outputs": [
    {
     "name": "stdout",
     "output_type": "stream",
     "text": [
      "pagol\n"
     ]
    }
   ],
   "source": [
    "print(list[4][1]);"
   ]
  },
  {
   "cell_type": "code",
   "execution_count": 7,
   "id": "78d0aff9",
   "metadata": {},
   "outputs": [],
   "source": [
    "type(list);"
   ]
  },
  {
   "cell_type": "markdown",
   "id": "c9105e47",
   "metadata": {},
   "source": [
    "<b>Tuples: ()</b>"
   ]
  },
  {
   "cell_type": "code",
   "execution_count": 12,
   "id": "03076678",
   "metadata": {},
   "outputs": [
    {
     "name": "stdout",
     "output_type": "stream",
     "text": [
      "(1, 2, 3, True, ['sagor', 'pagol'], False, 'karent nai to ki korbi')\n"
     ]
    }
   ],
   "source": [
    "#Tuples: ()\n",
    "tuples = (1, 2, 3, True, ['sagor', 'pagol'], False, 'karent nai to ki korbi')\n",
    "print(tuples);"
   ]
  },
  {
   "cell_type": "code",
   "execution_count": 13,
   "id": "1d0722e4",
   "metadata": {},
   "outputs": [],
   "source": [
    "type(tuples);"
   ]
  },
  {
   "cell_type": "code",
   "execution_count": null,
   "id": "9c9a6a6d",
   "metadata": {},
   "outputs": [
    {
     "name": "stdout",
     "output_type": "stream",
     "text": [
      "(1, 2, 3, True, ['sagor', 'pagol'], False)\n"
     ]
    }
   ],
   "source": [
    "print(tuples[0:6]); #colon mean to; 0 to 6-1"
   ]
  },
  {
   "cell_type": "markdown",
   "id": "0b0027ce",
   "metadata": {},
   "source": [
    "<b>Range: ()</b>"
   ]
  },
  {
   "cell_type": "code",
   "execution_count": null,
   "id": "ecf848e2",
   "metadata": {},
   "outputs": [
    {
     "name": "stdout",
     "output_type": "stream",
     "text": [
      "range(0, 20)\n"
     ]
    }
   ],
   "source": [
    "#Range: ()\n",
    "x = range(0, 20)\n",
    "print(x)"
   ]
  },
  {
   "cell_type": "code",
   "execution_count": 16,
   "id": "bebd8644",
   "metadata": {},
   "outputs": [
    {
     "name": "stdout",
     "output_type": "stream",
     "text": [
      "0\n",
      "1\n",
      "2\n",
      "3\n",
      "4\n",
      "5\n",
      "6\n",
      "7\n",
      "8\n",
      "9\n",
      "10\n",
      "11\n",
      "12\n",
      "13\n",
      "14\n",
      "15\n",
      "16\n",
      "17\n",
      "18\n",
      "19\n"
     ]
    }
   ],
   "source": [
    "for i in x:\n",
    "    print(i)"
   ]
  },
  {
   "cell_type": "code",
   "execution_count": null,
   "id": "b8c1107a",
   "metadata": {},
   "outputs": [
    {
     "name": "stdout",
     "output_type": "stream",
     "text": [
      "range(10, 20)\n"
     ]
    }
   ],
   "source": [
    "x = range(10, 20)\n",
    "print(x)"
   ]
  },
  {
   "cell_type": "code",
   "execution_count": null,
   "id": "b1a231a2",
   "metadata": {},
   "outputs": [
    {
     "name": "stdout",
     "output_type": "stream",
     "text": [
      "10\n",
      "11\n",
      "12\n",
      "13\n",
      "14\n",
      "15\n",
      "16\n",
      "17\n",
      "18\n",
      "19\n"
     ]
    }
   ],
   "source": [
    "for i in x: #2nd case\n",
    "    print(i)"
   ]
  },
  {
   "cell_type": "code",
   "execution_count": null,
   "id": "13a15e48",
   "metadata": {},
   "outputs": [
    {
     "name": "stdout",
     "output_type": "stream",
     "text": [
      "0\n",
      "5\n",
      "10\n",
      "15\n",
      "20\n",
      "25\n",
      "30\n"
     ]
    }
   ],
   "source": [
    "y = range(0, 31, 5) #3nd case\n",
    "for i in y:\n",
    "    print(i)"
   ]
  },
  {
   "cell_type": "code",
   "execution_count": 23,
   "id": "8edeb40d",
   "metadata": {},
   "outputs": [
    {
     "name": "stdout",
     "output_type": "stream",
     "text": [
      "31\n",
      "26\n",
      "21\n",
      "16\n",
      "11\n",
      "6\n",
      "1\n"
     ]
    }
   ],
   "source": [
    "y = range(31, 0, -5) #4nd case\n",
    "for i in y:\n",
    "    print(i)"
   ]
  },
  {
   "cell_type": "markdown",
   "id": "01326c58",
   "metadata": {},
   "source": [
    "<b>Array: []</b>"
   ]
  },
  {
   "cell_type": "code",
   "execution_count": 25,
   "id": "f8fbdc0a",
   "metadata": {},
   "outputs": [
    {
     "ename": "TypeError",
     "evalue": "array() argument 1 must be a unicode character, not list",
     "output_type": "error",
     "traceback": [
      "\u001b[31m---------------------------------------------------------------------------\u001b[39m",
      "\u001b[31mTypeError\u001b[39m                                 Traceback (most recent call last)",
      "\u001b[36mCell\u001b[39m\u001b[36m \u001b[39m\u001b[32mIn[25]\u001b[39m\u001b[32m, line 3\u001b[39m\n\u001b[32m      1\u001b[39m \u001b[38;5;66;03m#Array: []\u001b[39;00m\n\u001b[32m      2\u001b[39m \u001b[38;5;28;01mimport\u001b[39;00m\u001b[38;5;250m \u001b[39m\u001b[34;01marray\u001b[39;00m\u001b[38;5;250m \u001b[39m\u001b[38;5;28;01mas\u001b[39;00m\u001b[38;5;250m \u001b[39m\u001b[34;01mar\u001b[39;00m\n\u001b[32m----> \u001b[39m\u001b[32m3\u001b[39m a = \u001b[43mar\u001b[49m\u001b[43m.\u001b[49m\u001b[43marray\u001b[49m\u001b[43m(\u001b[49m\u001b[43m[\u001b[49m\u001b[32;43m1\u001b[39;49m\u001b[43m,\u001b[49m\u001b[43m \u001b[49m\u001b[32;43m2\u001b[39;49m\u001b[43m,\u001b[49m\u001b[43m \u001b[49m\u001b[32;43m3\u001b[39;49m\u001b[43m,\u001b[49m\u001b[43m \u001b[49m\u001b[32;43m4\u001b[39;49m\u001b[43m,\u001b[49m\u001b[43m \u001b[49m\u001b[32;43m5\u001b[39;49m\u001b[43m,\u001b[49m\u001b[43m \u001b[49m\u001b[32;43m6\u001b[39;49m\u001b[43m,\u001b[49m\u001b[43m \u001b[49m\u001b[32;43m7\u001b[39;49m\u001b[43m]\u001b[49m\u001b[43m)\u001b[49m\n\u001b[32m      4\u001b[39m \u001b[38;5;28mprint\u001b[39m(a)\n",
      "\u001b[31mTypeError\u001b[39m: array() argument 1 must be a unicode character, not list"
     ]
    }
   ],
   "source": [
    "#Array: []\n",
    "import array as ar\n",
    "a = ar.array([1, 2, 3, 4, 5, 6, 7])\n",
    "print(a)"
   ]
  },
  {
   "cell_type": "code",
   "execution_count": 31,
   "id": "5d70bba2",
   "metadata": {},
   "outputs": [
    {
     "name": "stdout",
     "output_type": "stream",
     "text": [
      "array('i', [1, 2, 3, 4, 5, 6, 7])\n"
     ]
    }
   ],
   "source": [
    "#Array: []\n",
    "import array as ar\n",
    "a = ar.array('i',[1, 2, 3, 4, 5, 6, 7])\n",
    "print(a)"
   ]
  },
  {
   "cell_type": "code",
   "execution_count": null,
   "id": "adf10c91",
   "metadata": {},
   "outputs": [
    {
     "data": {
      "text/plain": [
       "array.array"
      ]
     },
     "execution_count": 30,
     "metadata": {},
     "output_type": "execute_result"
    }
   ],
   "source": [
    "type(a)"
   ]
  },
  {
   "cell_type": "code",
   "execution_count": 32,
   "id": "2c54d66c",
   "metadata": {},
   "outputs": [
    {
     "ename": "TypeError",
     "evalue": "'float' object cannot be interpreted as an integer",
     "output_type": "error",
     "traceback": [
      "\u001b[31m---------------------------------------------------------------------------\u001b[39m",
      "\u001b[31mTypeError\u001b[39m                                 Traceback (most recent call last)",
      "\u001b[36mCell\u001b[39m\u001b[36m \u001b[39m\u001b[32mIn[32]\u001b[39m\u001b[32m, line 1\u001b[39m\n\u001b[32m----> \u001b[39m\u001b[32m1\u001b[39m a = \u001b[43mar\u001b[49m\u001b[43m.\u001b[49m\u001b[43marray\u001b[49m\u001b[43m(\u001b[49m\u001b[33;43m'\u001b[39;49m\u001b[33;43mi\u001b[39;49m\u001b[33;43m'\u001b[39;49m\u001b[43m,\u001b[49m\u001b[43m[\u001b[49m\u001b[32;43m1.5\u001b[39;49m\u001b[43m,\u001b[49m\u001b[43m \u001b[49m\u001b[32;43m2\u001b[39;49m\u001b[43m,\u001b[49m\u001b[43m \u001b[49m\u001b[32;43m3\u001b[39;49m\u001b[43m,\u001b[49m\u001b[43m \u001b[49m\u001b[32;43m4\u001b[39;49m\u001b[43m,\u001b[49m\u001b[43m \u001b[49m\u001b[32;43m5\u001b[39;49m\u001b[43m,\u001b[49m\u001b[43m \u001b[49m\u001b[32;43m6\u001b[39;49m\u001b[43m,\u001b[49m\u001b[43m \u001b[49m\u001b[32;43m7\u001b[39;49m\u001b[43m]\u001b[49m\u001b[43m)\u001b[49m\n\u001b[32m      2\u001b[39m \u001b[38;5;28mprint\u001b[39m(a)\n",
      "\u001b[31mTypeError\u001b[39m: 'float' object cannot be interpreted as an integer"
     ]
    }
   ],
   "source": [
    "a = ar.array('i',[1.5, 2, 3, 4, 5, 6, 7])\n",
    "print(a)"
   ]
  },
  {
   "cell_type": "code",
   "execution_count": 33,
   "id": "2208f8fa",
   "metadata": {},
   "outputs": [
    {
     "name": "stdout",
     "output_type": "stream",
     "text": [
      "array('f', [1.5, 2.0, 3.0, 4.0, 5.0, 6.0, 7.0])\n"
     ]
    }
   ],
   "source": [
    "a = ar.array('f',[1.5, 2, 3, 4, 5, 6, 7])\n",
    "print(a)"
   ]
  },
  {
   "cell_type": "markdown",
   "id": "9b11f4ed",
   "metadata": {},
   "source": [
    "<b>String</b>"
   ]
  },
  {
   "cell_type": "code",
   "execution_count": 38,
   "id": "c42531c7",
   "metadata": {},
   "outputs": [
    {
     "name": "stdout",
     "output_type": "stream",
     "text": [
      "sagor karent nai akhn bad de pore koris\n"
     ]
    },
    {
     "data": {
      "text/plain": [
       "str"
      ]
     },
     "execution_count": 38,
     "metadata": {},
     "output_type": "execute_result"
    }
   ],
   "source": [
    "#String\n",
    "s = 'sagor karent nai akhn bad de pore koris'\n",
    "print(s)\n",
    "type(s)"
   ]
  },
  {
   "cell_type": "markdown",
   "id": "129a744f",
   "metadata": {},
   "source": [
    "<b>Set: {}</b>"
   ]
  },
  {
   "cell_type": "code",
   "execution_count": 40,
   "id": "59e63a48",
   "metadata": {},
   "outputs": [
    {
     "name": "stdout",
     "output_type": "stream",
     "text": [
      "{1, 2, 3}\n"
     ]
    },
    {
     "data": {
      "text/plain": [
       "set"
      ]
     },
     "execution_count": 40,
     "metadata": {},
     "output_type": "execute_result"
    }
   ],
   "source": [
    "#Set: ()\n",
    "s = {1, 2, 3}\n",
    "print(s)\n",
    "type(s)"
   ]
  },
  {
   "cell_type": "markdown",
   "id": "60319856",
   "metadata": {},
   "source": [
    "<b>Dictionary: {}</b>"
   ]
  },
  {
   "cell_type": "code",
   "execution_count": 41,
   "id": "f9e49c1a",
   "metadata": {},
   "outputs": [
    {
     "name": "stdout",
     "output_type": "stream",
     "text": [
      "{'versity': 'WUB Bangladesh', 'dipatment': 'CSE'}\n"
     ]
    },
    {
     "data": {
      "text/plain": [
       "dict"
      ]
     },
     "execution_count": 41,
     "metadata": {},
     "output_type": "execute_result"
    }
   ],
   "source": [
    "#Dictionary\n",
    "d = {\n",
    "    'versity' : 'WUB Bangladesh',\n",
    "    'dipatment' : 'CSE',\n",
    "}\n",
    "print(d)\n",
    "type(d)"
   ]
  },
  {
   "cell_type": "code",
   "execution_count": 42,
   "id": "0d5bb696",
   "metadata": {},
   "outputs": [
    {
     "name": "stdout",
     "output_type": "stream",
     "text": [
      "dict_keys(['versity', 'dipatment'])\n",
      "dict_values(['WUB Bangladesh', 'CSE'])\n"
     ]
    }
   ],
   "source": [
    "print(d.keys())\n",
    "print(d.values())"
   ]
  }
 ],
 "metadata": {
  "kernelspec": {
   "display_name": "Python 3",
   "language": "python",
   "name": "python3"
  },
  "language_info": {
   "codemirror_mode": {
    "name": "ipython",
    "version": 3
   },
   "file_extension": ".py",
   "mimetype": "text/x-python",
   "name": "python",
   "nbconvert_exporter": "python",
   "pygments_lexer": "ipython3",
   "version": "3.13.2"
  }
 },
 "nbformat": 4,
 "nbformat_minor": 5
}
