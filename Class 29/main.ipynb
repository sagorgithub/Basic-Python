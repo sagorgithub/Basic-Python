{
 "cells": [
  {
   "cell_type": "markdown",
   "id": "509f1769",
   "metadata": {},
   "source": [
    "# 1. Understanding Functions:"
   ]
  },
  {
   "cell_type": "markdown",
   "id": "b811bae7",
   "metadata": {},
   "source": [
    "-> A function is a block of organized, reusable code that performs a specific task. <br>\n",
    "-> Functions help in making your code modular, more readable, and easier to maintain."
   ]
  },
  {
   "cell_type": "markdown",
   "id": "b2197ad3",
   "metadata": {},
   "source": [
    "# 2. Function Definition:"
   ]
  },
  {
   "cell_type": "markdown",
   "id": "a379f653",
   "metadata": {},
   "source": [
    "To define a function, use the def keyword followed by the function name and parentheses. For example:"
   ]
  },
  {
   "cell_type": "code",
   "execution_count": 2,
   "id": "5329158b",
   "metadata": {},
   "outputs": [],
   "source": [
    "def dept():\n",
    "    print('Sagor Akhn Aktu Baire Jaiya Pagol Hosche na to?')"
   ]
  },
  {
   "cell_type": "markdown",
   "id": "2e46653b",
   "metadata": {},
   "source": [
    "# 3. Function Call"
   ]
  },
  {
   "cell_type": "markdown",
   "id": "3f8d6e9f",
   "metadata": {},
   "source": [
    "To execute a function, call it by using its name followed by parentheses:"
   ]
  },
  {
   "cell_type": "code",
   "execution_count": 3,
   "id": "402aadc0",
   "metadata": {},
   "outputs": [
    {
     "name": "stdout",
     "output_type": "stream",
     "text": [
      "Sagor Akhn Aktu Baire Jaiya Pagol Hosche na to?\n"
     ]
    }
   ],
   "source": [
    "dept()"
   ]
  },
  {
   "cell_type": "markdown",
   "id": "bc4c13d0",
   "metadata": {},
   "source": [
    "# 4. Parameters:"
   ]
  },
  {
   "cell_type": "markdown",
   "id": "1ac37334",
   "metadata": {},
   "source": [
    "Functions can accept parameters (inputs). Parameters are variables that are used as placeholders for the actual values when the function is called."
   ]
  },
  {
   "cell_type": "code",
   "execution_count": 7,
   "id": "fe6512e1",
   "metadata": {},
   "outputs": [],
   "source": [
    "def dept_with_names(name):\n",
    "    print(f'Ami bolchi {name}')"
   ]
  },
  {
   "cell_type": "markdown",
   "id": "68707756",
   "metadata": {},
   "source": [
    "You can call this function with a specific value:"
   ]
  },
  {
   "cell_type": "code",
   "execution_count": 8,
   "id": "d3321636",
   "metadata": {},
   "outputs": [
    {
     "name": "stdout",
     "output_type": "stream",
     "text": [
      "Ami bolchi Sagor Tui Ki Pagol?\n"
     ]
    }
   ],
   "source": [
    "dept_with_names('Sagor Tui Ki Pagol?')"
   ]
  },
  {
   "cell_type": "markdown",
   "id": "72c63953",
   "metadata": {},
   "source": [
    "# 5. Return Statement:"
   ]
  },
  {
   "cell_type": "markdown",
   "id": "297e6b2e",
   "metadata": {},
   "source": [
    "Functions can return a value using the \"return\" statement. This is useful when you want to use the result of a function elsewhere in your code."
   ]
  },
  {
   "cell_type": "code",
   "execution_count": 9,
   "id": "f586ba4b",
   "metadata": {},
   "outputs": [],
   "source": [
    "def name():\n",
    "    print('Pagol hos na?')\n",
    "    return 1"
   ]
  },
  {
   "cell_type": "code",
   "execution_count": 10,
   "id": "b155ffa4",
   "metadata": {},
   "outputs": [
    {
     "name": "stdout",
     "output_type": "stream",
     "text": [
      "Pagol hos na?\n"
     ]
    },
    {
     "data": {
      "text/plain": [
       "1"
      ]
     },
     "execution_count": 10,
     "metadata": {},
     "output_type": "execute_result"
    }
   ],
   "source": [
    "name()"
   ]
  },
  {
   "cell_type": "code",
   "execution_count": 11,
   "id": "db66aacd",
   "metadata": {},
   "outputs": [],
   "source": [
    "def name():\n",
    "    return print('Pagol')"
   ]
  },
  {
   "cell_type": "code",
   "execution_count": 12,
   "id": "eea73f16",
   "metadata": {},
   "outputs": [],
   "source": [
    "def name():\n",
    "    return dept()"
   ]
  },
  {
   "cell_type": "code",
   "execution_count": 13,
   "id": "6990b94c",
   "metadata": {},
   "outputs": [
    {
     "name": "stdout",
     "output_type": "stream",
     "text": [
      "Sagor Akhn Aktu Baire Jaiya Pagol Hosche na to?\n"
     ]
    }
   ],
   "source": [
    "name()"
   ]
  },
  {
   "cell_type": "markdown",
   "id": "ead0f606",
   "metadata": {},
   "source": [
    "# Question: 01"
   ]
  },
  {
   "cell_type": "markdown",
   "id": "d0bf68cc",
   "metadata": {},
   "source": [
    "Write a function that wont take any parameters explicitly. Instead, it defines local variables a and b within the function and returns their sum. The values of a and b are fixed within the function."
   ]
  },
  {
   "cell_type": "code",
   "execution_count": 14,
   "id": "35ebd46c",
   "metadata": {},
   "outputs": [],
   "source": [
    "def add_num():\n",
    "    a = 10\n",
    "    b = 20\n",
    "    return a+b"
   ]
  },
  {
   "cell_type": "code",
   "execution_count": 15,
   "id": "60f2fa6d",
   "metadata": {},
   "outputs": [
    {
     "data": {
      "text/plain": [
       "30"
      ]
     },
     "execution_count": 15,
     "metadata": {},
     "output_type": "execute_result"
    }
   ],
   "source": [
    "add_num()"
   ]
  },
  {
   "cell_type": "code",
   "execution_count": 16,
   "id": "51d1ddc4",
   "metadata": {},
   "outputs": [],
   "source": [
    "def add_num():\n",
    "    a = 10\n",
    "    b = 20\n",
    "    result = a+b\n",
    "    return result"
   ]
  },
  {
   "cell_type": "code",
   "execution_count": 17,
   "id": "f6416adc",
   "metadata": {},
   "outputs": [
    {
     "data": {
      "text/plain": [
       "30"
      ]
     },
     "execution_count": 17,
     "metadata": {},
     "output_type": "execute_result"
    }
   ],
   "source": [
    "add_num()"
   ]
  },
  {
   "cell_type": "markdown",
   "id": "e275aa3d",
   "metadata": {},
   "source": [
    "# Question: 02"
   ]
  },
  {
   "cell_type": "markdown",
   "id": "fafee974",
   "metadata": {},
   "source": [
    "Write a function that will take two parameters, a and b, and returns their sum. The values of a and b will not fixed within the function; they are determined by the arguments passed when the function is called. That will make the function more flexible because it can add any two numbers, not just the fixed values in the first function."
   ]
  },
  {
   "cell_type": "code",
   "execution_count": 18,
   "id": "661fa40e",
   "metadata": {},
   "outputs": [],
   "source": [
    "def add_num(a, b):\n",
    "    result = a+b\n",
    "    return result"
   ]
  },
  {
   "cell_type": "code",
   "execution_count": 19,
   "id": "f29c3dc3",
   "metadata": {},
   "outputs": [
    {
     "data": {
      "text/plain": [
       "30"
      ]
     },
     "execution_count": 19,
     "metadata": {},
     "output_type": "execute_result"
    }
   ],
   "source": [
    "add_num(10,20)"
   ]
  },
  {
   "cell_type": "code",
   "execution_count": 20,
   "id": "a5db1bba",
   "metadata": {},
   "outputs": [
    {
     "data": {
      "text/plain": [
       "90"
      ]
     },
     "execution_count": 20,
     "metadata": {},
     "output_type": "execute_result"
    }
   ],
   "source": [
    "add_num(50, 40)"
   ]
  },
  {
   "cell_type": "markdown",
   "id": "7fa29581",
   "metadata": {},
   "source": [
    "The key difference lies in the flexibility and reusability of the second function, which can add any two numbers based on the arguments provided, while the first function is limited to adding the fixed values a and b."
   ]
  }
 ],
 "metadata": {
  "kernelspec": {
   "display_name": "base",
   "language": "python",
   "name": "python3"
  },
  "language_info": {
   "codemirror_mode": {
    "name": "ipython",
    "version": 3
   },
   "file_extension": ".py",
   "mimetype": "text/x-python",
   "name": "python",
   "nbconvert_exporter": "python",
   "pygments_lexer": "ipython3",
   "version": "3.13.5"
  }
 },
 "nbformat": 4,
 "nbformat_minor": 5
}
