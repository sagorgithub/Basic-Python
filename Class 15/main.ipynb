{
 "cells": [
  {
   "cell_type": "markdown",
   "id": "f8546e26",
   "metadata": {},
   "source": [
    "# Python Tuples: Understanding Tuple in Python | List vs Tuples in Python\n",
    "\n"
   ]
  }
 ],
 "metadata": {
  "language_info": {
   "name": "python"
  }
 },
 "nbformat": 4,
 "nbformat_minor": 5
}
