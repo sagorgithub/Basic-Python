{
 "cells": [
  {
   "cell_type": "markdown",
   "id": "0ad6b94d",
   "metadata": {},
   "source": [
    "# Module in Python"
   ]
  },
  {
   "cell_type": "code",
   "execution_count": 4,
   "id": "5e4835c1",
   "metadata": {},
   "outputs": [
    {
     "name": "stdout",
     "output_type": "stream",
     "text": [
      "Hello, SAGOR!\n"
     ]
    },
    {
     "data": {
      "text/plain": [
       "100"
      ]
     },
     "execution_count": 4,
     "metadata": {},
     "output_type": "execute_result"
    }
   ],
   "source": [
    "import test_module\n",
    "test_module.greet('SAGOR')\n",
    "test_module.square(10)"
   ]
  },
  {
   "cell_type": "code",
   "execution_count": 5,
   "id": "1b77a375",
   "metadata": {},
   "outputs": [
    {
     "name": "stdout",
     "output_type": "stream",
     "text": [
      "Hello, SAGOR!\n"
     ]
    }
   ],
   "source": [
    "from test_module import greet\n",
    "greet('SAGOR')\n",
    "#test_module.square(10)"
   ]
  },
  {
   "cell_type": "code",
   "execution_count": 6,
   "id": "fce11a41",
   "metadata": {},
   "outputs": [
    {
     "name": "stdout",
     "output_type": "stream",
     "text": [
      "Hello, SAGOR!\n"
     ]
    },
    {
     "data": {
      "text/plain": [
       "100"
      ]
     },
     "execution_count": 6,
     "metadata": {},
     "output_type": "execute_result"
    }
   ],
   "source": [
    "from test_module import greet, square\n",
    "greet('SAGOR')\n",
    "square(10)"
   ]
  },
  {
   "cell_type": "code",
   "execution_count": 7,
   "id": "f3b874c2",
   "metadata": {},
   "outputs": [
    {
     "name": "stdout",
     "output_type": "stream",
     "text": [
      "Hello, SAGOR!\n"
     ]
    },
    {
     "data": {
      "text/plain": [
       "100"
      ]
     },
     "execution_count": 7,
     "metadata": {},
     "output_type": "execute_result"
    }
   ],
   "source": [
    "from test_module import *\n",
    "greet('SAGOR')\n",
    "square(10)"
   ]
  }
 ],
 "metadata": {
  "kernelspec": {
   "display_name": "base",
   "language": "python",
   "name": "python3"
  },
  "language_info": {
   "codemirror_mode": {
    "name": "ipython",
    "version": 3
   },
   "file_extension": ".py",
   "mimetype": "text/x-python",
   "name": "python",
   "nbconvert_exporter": "python",
   "pygments_lexer": "ipython3",
   "version": "3.13.5"
  }
 },
 "nbformat": 4,
 "nbformat_minor": 5
}
