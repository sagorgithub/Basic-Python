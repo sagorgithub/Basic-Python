{
 "cells": [
  {
   "cell_type": "markdown",
   "id": "17dc7f71",
   "metadata": {},
   "source": [
    "# Zip In Python"
   ]
  },
  {
   "cell_type": "code",
   "execution_count": 4,
   "id": "ab502616",
   "metadata": {},
   "outputs": [],
   "source": [
    "import zipfile as zp\n",
    "\n",
    "zipp = zp.ZipFile('Zipped.zip','w') # w stands for write\n",
    "\n",
    "zipp.write('assignment.jpg')\n",
    "zipp.write('Visa.docx')"
   ]
  },
  {
   "cell_type": "markdown",
   "id": "83e76d45",
   "metadata": {},
   "source": [
    "# unzip"
   ]
  },
  {
   "cell_type": "code",
   "execution_count": null,
   "id": "44618f18",
   "metadata": {},
   "outputs": [],
   "source": [
    "with zp.ZipFile('Zipped.zip','r') as file: # r stands for read\n",
    "    file.extractall('TEMP Unzip')\n"
   ]
  }
 ],
 "metadata": {
  "kernelspec": {
   "display_name": "base",
   "language": "python",
   "name": "python3"
  },
  "language_info": {
   "codemirror_mode": {
    "name": "ipython",
    "version": 3
   },
   "file_extension": ".py",
   "mimetype": "text/x-python",
   "name": "python",
   "nbconvert_exporter": "python",
   "pygments_lexer": "ipython3",
   "version": "3.13.5"
  }
 },
 "nbformat": 4,
 "nbformat_minor": 5
}
