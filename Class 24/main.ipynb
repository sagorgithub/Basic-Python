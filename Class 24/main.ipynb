{
 "cells": [
  {
   "cell_type": "markdown",
   "id": "c6499631",
   "metadata": {},
   "source": [
    "# How to Search And Replace Text In A File In Python"
   ]
  },
  {
   "cell_type": "code",
   "execution_count": 3,
   "id": "e6384597",
   "metadata": {},
   "outputs": [],
   "source": [
    "main = 'Sagor khub gorom porche baire ja gure ay aktu pagol hos na akhoni'\n",
    "\n",
    "search_word = 'baire ja'\n",
    "replace_word = \"baire jaiya aktu\"\n",
    "\n",
    "with open(r'test.txt', 'r') as file:\n",
    "    data = file.read()\n",
    "    data = data.replace(search_word, replace_word)\n"
   ]
  },
  {
   "cell_type": "code",
   "execution_count": 4,
   "id": "e2e998a5",
   "metadata": {},
   "outputs": [],
   "source": [
    "with open(r'test.txt', 'w') as file:\n",
    "    file.write(data)"
   ]
  },
  {
   "cell_type": "code",
   "execution_count": 5,
   "id": "843034fe",
   "metadata": {},
   "outputs": [],
   "source": [
    "import re"
   ]
  },
  {
   "cell_type": "code",
   "execution_count": 6,
   "id": "01a008f3",
   "metadata": {},
   "outputs": [
    {
     "data": {
      "text/plain": [
       "'Sagor khub gorom porche baire jaiya aktu gure ay aktu pagol hos na akhoni'"
      ]
     },
     "execution_count": 6,
     "metadata": {},
     "output_type": "execute_result"
    }
   ],
   "source": [
    "re.sub(search_word , replace_word, main )"
   ]
  }
 ],
 "metadata": {
  "kernelspec": {
   "display_name": "base",
   "language": "python",
   "name": "python3"
  },
  "language_info": {
   "codemirror_mode": {
    "name": "ipython",
    "version": 3
   },
   "file_extension": ".py",
   "mimetype": "text/x-python",
   "name": "python",
   "nbconvert_exporter": "python",
   "pygments_lexer": "ipython3",
   "version": "3.13.5"
  }
 },
 "nbformat": 4,
 "nbformat_minor": 5
}
