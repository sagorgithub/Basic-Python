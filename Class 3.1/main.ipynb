{
 "cells": [
  {
   "cell_type": "markdown",
   "id": "12fa6ff6",
   "metadata": {},
   "source": [
    "#Python String Methode"
   ]
  },
  {
   "cell_type": "code",
   "execution_count": 7,
   "id": "1ac8a4c5",
   "metadata": {},
   "outputs": [],
   "source": [
    "ktha = 'sagor aj onek gorom tar por karent nai tai akhn aktu baire ja';"
   ]
  },
  {
   "cell_type": "markdown",
   "id": "00e0cfff",
   "metadata": {},
   "source": [
    "#Word Find"
   ]
  },
  {
   "cell_type": "code",
   "execution_count": 5,
   "id": "63a9a147",
   "metadata": {},
   "outputs": [
    {
     "data": {
      "text/plain": [
       "59"
      ]
     },
     "execution_count": 5,
     "metadata": {},
     "output_type": "execute_result"
    }
   ],
   "source": [
    "ktha.find('ja')"
   ]
  },
  {
   "cell_type": "code",
   "execution_count": 8,
   "id": "582a2d41",
   "metadata": {},
   "outputs": [
    {
     "data": {
      "text/plain": [
       "6"
      ]
     },
     "execution_count": 8,
     "metadata": {},
     "output_type": "execute_result"
    }
   ],
   "source": [
    "ktha.find('aj')"
   ]
  },
  {
   "cell_type": "code",
   "execution_count": 9,
   "id": "ed46e662",
   "metadata": {},
   "outputs": [
    {
     "data": {
      "text/plain": [
       "48"
      ]
     },
     "execution_count": 9,
     "metadata": {},
     "output_type": "execute_result"
    }
   ],
   "source": [
    "ktha.find('aktu')"
   ]
  },
  {
   "cell_type": "code",
   "execution_count": 10,
   "id": "388057d6",
   "metadata": {},
   "outputs": [
    {
     "data": {
      "text/plain": [
       "-1"
      ]
     },
     "execution_count": 10,
     "metadata": {},
     "output_type": "execute_result"
    }
   ],
   "source": [
    "ktha.find('jas')"
   ]
  },
  {
   "cell_type": "markdown",
   "id": "c8697aa7",
   "metadata": {},
   "source": [
    "#akta Letter find"
   ]
  },
  {
   "cell_type": "code",
   "execution_count": 11,
   "id": "6d2cc13a",
   "metadata": {},
   "outputs": [
    {
     "data": {
      "text/plain": [
       "7"
      ]
     },
     "execution_count": 11,
     "metadata": {},
     "output_type": "execute_result"
    }
   ],
   "source": [
    "ktha.find('j')"
   ]
  },
  {
   "cell_type": "markdown",
   "id": "fc341d7c",
   "metadata": {},
   "source": [
    "#Particular renche Er Modhe khujty"
   ]
  },
  {
   "cell_type": "code",
   "execution_count": 12,
   "id": "0da301ba",
   "metadata": {},
   "outputs": [
    {
     "data": {
      "text/plain": [
       "-1"
      ]
     },
     "execution_count": 12,
     "metadata": {},
     "output_type": "execute_result"
    }
   ],
   "source": [
    "ktha.find('j', 10, 30)"
   ]
  },
  {
   "cell_type": "code",
   "execution_count": 20,
   "id": "b08374a1",
   "metadata": {},
   "outputs": [
    {
     "data": {
      "text/plain": [
       "24"
      ]
     },
     "execution_count": 20,
     "metadata": {},
     "output_type": "execute_result"
    }
   ],
   "source": [
    "ktha.find('p', 20, 60)"
   ]
  },
  {
   "cell_type": "code",
   "execution_count": 21,
   "id": "3b2ff9b2",
   "metadata": {},
   "outputs": [
    {
     "data": {
      "text/plain": [
       "53"
      ]
     },
     "execution_count": 21,
     "metadata": {},
     "output_type": "execute_result"
    }
   ],
   "source": [
    "ktha.find('baire', 30, 59)"
   ]
  },
  {
   "cell_type": "code",
   "execution_count": 24,
   "id": "63db244a",
   "metadata": {},
   "outputs": [
    {
     "data": {
      "text/plain": [
       "59"
      ]
     },
     "execution_count": 24,
     "metadata": {},
     "output_type": "execute_result"
    }
   ],
   "source": [
    "ktha.index('ja')"
   ]
  },
  {
   "cell_type": "code",
   "execution_count": 25,
   "id": "62f8284c",
   "metadata": {},
   "outputs": [
    {
     "data": {
      "text/plain": [
       "59"
      ]
     },
     "execution_count": 25,
     "metadata": {},
     "output_type": "execute_result"
    }
   ],
   "source": [
    "ktha.index('j', 20, 60)"
   ]
  },
  {
   "cell_type": "code",
   "execution_count": 26,
   "id": "ae151d9b",
   "metadata": {},
   "outputs": [
    {
     "data": {
      "text/plain": [
       "-1"
      ]
     },
     "execution_count": 26,
     "metadata": {},
     "output_type": "execute_result"
    }
   ],
   "source": [
    "ktha.find('Pagol')"
   ]
  },
  {
   "cell_type": "code",
   "execution_count": 27,
   "id": "d00eabaa",
   "metadata": {},
   "outputs": [
    {
     "ename": "ValueError",
     "evalue": "substring not found",
     "output_type": "error",
     "traceback": [
      "\u001b[31m---------------------------------------------------------------------------\u001b[39m",
      "\u001b[31mValueError\u001b[39m                                Traceback (most recent call last)",
      "\u001b[36mCell\u001b[39m\u001b[36m \u001b[39m\u001b[32mIn[27]\u001b[39m\u001b[32m, line 1\u001b[39m\n\u001b[32m----> \u001b[39m\u001b[32m1\u001b[39m \u001b[43mktha\u001b[49m\u001b[43m.\u001b[49m\u001b[43mindex\u001b[49m\u001b[43m(\u001b[49m\u001b[33;43m'\u001b[39;49m\u001b[33;43mPagol\u001b[39;49m\u001b[33;43m'\u001b[39;49m\u001b[43m)\u001b[49m\n",
      "\u001b[31mValueError\u001b[39m: substring not found"
     ]
    }
   ],
   "source": [
    "ktha.index('Pagol')"
   ]
  },
  {
   "cell_type": "markdown",
   "id": "b23242ea",
   "metadata": {},
   "source": [
    "#convat lower case"
   ]
  },
  {
   "cell_type": "code",
   "execution_count": 29,
   "id": "75c9ee0d",
   "metadata": {},
   "outputs": [
    {
     "data": {
      "text/plain": [
       "'md sagor hosen'"
      ]
     },
     "execution_count": 29,
     "metadata": {},
     "output_type": "execute_result"
    }
   ],
   "source": [
    "name = 'MD SAGOR HOSEN'\n",
    "name.lower()"
   ]
  },
  {
   "cell_type": "code",
   "execution_count": 31,
   "id": "9d2f6ff6",
   "metadata": {},
   "outputs": [
    {
     "data": {
      "text/plain": [
       "'md sagor hosen'"
      ]
     },
     "execution_count": 31,
     "metadata": {},
     "output_type": "execute_result"
    }
   ],
   "source": [
    "name.casefold()"
   ]
  },
  {
   "cell_type": "markdown",
   "id": "12f61baa",
   "metadata": {},
   "source": [
    "#convat Capital case"
   ]
  },
  {
   "cell_type": "code",
   "execution_count": 37,
   "id": "79db08ef",
   "metadata": {},
   "outputs": [],
   "source": [
    "name2 = \"Md Sagor Hosen\";"
   ]
  },
  {
   "cell_type": "markdown",
   "id": "b037307a",
   "metadata": {},
   "source": [
    "#convat first letter Upercash"
   ]
  },
  {
   "cell_type": "code",
   "execution_count": 39,
   "id": "89f97151",
   "metadata": {},
   "outputs": [
    {
     "data": {
      "text/plain": [
       "'Md sagor hosen'"
      ]
     },
     "execution_count": 39,
     "metadata": {},
     "output_type": "execute_result"
    }
   ],
   "source": [
    "name2.capitalize() #convat first letter Upercash"
   ]
  },
  {
   "cell_type": "markdown",
   "id": "a5a34a90",
   "metadata": {},
   "source": [
    "#convat first letter lower cash"
   ]
  },
  {
   "cell_type": "code",
   "execution_count": 41,
   "id": "f14bf350",
   "metadata": {},
   "outputs": [
    {
     "data": {
      "text/plain": [
       "'mD sAGOR hOSEN'"
      ]
     },
     "execution_count": 41,
     "metadata": {},
     "output_type": "execute_result"
    }
   ],
   "source": [
    "name2.swapcase() #convat first letter lower cash"
   ]
  },
  {
   "cell_type": "markdown",
   "id": "9423447a",
   "metadata": {},
   "source": [
    "#convat First Letter Upercash"
   ]
  },
  {
   "cell_type": "code",
   "execution_count": 47,
   "id": "b3864454",
   "metadata": {},
   "outputs": [
    {
     "name": "stdout",
     "output_type": "stream",
     "text": [
      "md rased hosen\n"
     ]
    }
   ],
   "source": [
    "z = \"md rased hosen\"\n",
    "print(z)"
   ]
  },
  {
   "cell_type": "code",
   "execution_count": 48,
   "id": "3f7393e6",
   "metadata": {},
   "outputs": [
    {
     "data": {
      "text/plain": [
       "'Md Rased Hosen'"
      ]
     },
     "execution_count": 48,
     "metadata": {},
     "output_type": "execute_result"
    }
   ],
   "source": [
    "z.title()"
   ]
  },
  {
   "cell_type": "markdown",
   "id": "42ded0f6",
   "metadata": {},
   "source": [
    "#convat Upercash"
   ]
  },
  {
   "cell_type": "code",
   "execution_count": 49,
   "id": "848d2cfa",
   "metadata": {},
   "outputs": [
    {
     "data": {
      "text/plain": [
       "'MD RASED HOSEN'"
      ]
     },
     "execution_count": 49,
     "metadata": {},
     "output_type": "execute_result"
    }
   ],
   "source": [
    "z.upper()"
   ]
  },
  {
   "cell_type": "markdown",
   "id": "2b16949d",
   "metadata": {},
   "source": [
    "#cash Check"
   ]
  },
  {
   "cell_type": "code",
   "execution_count": 50,
   "id": "c08e7b34",
   "metadata": {},
   "outputs": [
    {
     "data": {
      "text/plain": [
       "True"
      ]
     },
     "execution_count": 50,
     "metadata": {},
     "output_type": "execute_result"
    }
   ],
   "source": [
    "z.islower()"
   ]
  },
  {
   "cell_type": "code",
   "execution_count": 51,
   "id": "028cf905",
   "metadata": {},
   "outputs": [
    {
     "data": {
      "text/plain": [
       "False"
      ]
     },
     "execution_count": 51,
     "metadata": {},
     "output_type": "execute_result"
    }
   ],
   "source": [
    "name2.islower()"
   ]
  },
  {
   "cell_type": "code",
   "execution_count": 52,
   "id": "31495ec7",
   "metadata": {},
   "outputs": [
    {
     "data": {
      "text/plain": [
       "b'md rased hosen'"
      ]
     },
     "execution_count": 52,
     "metadata": {},
     "output_type": "execute_result"
    }
   ],
   "source": [
    "z.encode()"
   ]
  },
  {
   "cell_type": "code",
   "execution_count": 53,
   "id": "6934c9f6",
   "metadata": {},
   "outputs": [
    {
     "data": {
      "text/plain": [
       "bytes"
      ]
     },
     "execution_count": 53,
     "metadata": {},
     "output_type": "execute_result"
    }
   ],
   "source": [
    "type(z.encode())"
   ]
  },
  {
   "cell_type": "markdown",
   "id": "d5d48c3b",
   "metadata": {},
   "source": [
    "#Word aladha"
   ]
  },
  {
   "cell_type": "code",
   "execution_count": 56,
   "id": "ad50f8df",
   "metadata": {},
   "outputs": [
    {
     "name": "stdout",
     "output_type": "stream",
     "text": [
      "akhn laptops a caj ses bad de\n"
     ]
    }
   ],
   "source": [
    "y = 'akhn laptops a caj ses bad de'\n",
    "print(y)"
   ]
  },
  {
   "cell_type": "code",
   "execution_count": 57,
   "id": "10dca0cb",
   "metadata": {},
   "outputs": [
    {
     "data": {
      "text/plain": [
       "['akhn', 'laptops', 'a', 'caj', 'ses', 'bad', 'de']"
      ]
     },
     "execution_count": 57,
     "metadata": {},
     "output_type": "execute_result"
    }
   ],
   "source": [
    "y.split()"
   ]
  },
  {
   "cell_type": "code",
   "execution_count": 58,
   "id": "539e0576",
   "metadata": {},
   "outputs": [
    {
     "data": {
      "text/plain": [
       "'laptops'"
      ]
     },
     "execution_count": 58,
     "metadata": {},
     "output_type": "execute_result"
    }
   ],
   "source": [
    "y.split()[1]"
   ]
  },
  {
   "cell_type": "code",
   "execution_count": 61,
   "id": "7e42ad97",
   "metadata": {},
   "outputs": [
    {
     "data": {
      "text/plain": [
       "'                              akhn laptops a caj ses bad de                               '"
      ]
     },
     "execution_count": 61,
     "metadata": {},
     "output_type": "execute_result"
    }
   ],
   "source": [
    "y.center(90)"
   ]
  },
  {
   "cell_type": "code",
   "execution_count": 65,
   "id": "cc36fd92",
   "metadata": {},
   "outputs": [
    {
     "data": {
      "text/plain": [
       "'pagol akhn laptops a caj ses bad de'"
      ]
     },
     "execution_count": 65,
     "metadata": {},
     "output_type": "execute_result"
    }
   ],
   "source": [
    "y.replace('akhn', 'pagol akhn')"
   ]
  },
  {
   "cell_type": "markdown",
   "id": "a4b61e5a",
   "metadata": {},
   "source": [
    "Moja ses kor"
   ]
  },
  {
   "cell_type": "code",
   "execution_count": 67,
   "id": "cf531276",
   "metadata": {},
   "outputs": [
    {
     "name": "stdout",
     "output_type": "stream",
     "text": [
      "ami debo  500  Taka\n"
     ]
    }
   ],
   "source": [
    "maruf = 500\n",
    "naim = 1000\n",
    "sagor = naim-maruf\n",
    "\n",
    "print('ami debo ',sagor,' Taka')"
   ]
  },
  {
   "cell_type": "code",
   "execution_count": 68,
   "id": "f2bdda5b",
   "metadata": {},
   "outputs": [
    {
     "name": "stdout",
     "output_type": "stream",
     "text": [
      "ami debo 500 Taka\n"
     ]
    }
   ],
   "source": [
    "print('ami debo {} Taka'.format(sagor))"
   ]
  },
  {
   "cell_type": "markdown",
   "id": "5fedf120",
   "metadata": {},
   "source": [
    "Input fild\n"
   ]
  },
  {
   "cell_type": "code",
   "execution_count": 2,
   "id": "155f2b08",
   "metadata": {},
   "outputs": [
    {
     "name": "stdout",
     "output_type": "stream",
     "text": [
      ", \n"
     ]
    }
   ],
   "source": [
    "# print(\"Enter your name:\")\n",
    "x = input('inter your number: ')\n",
    "print(\", \" + x)"
   ]
  }
 ],
 "metadata": {
  "kernelspec": {
   "display_name": "Python 3",
   "language": "python",
   "name": "python3"
  },
  "language_info": {
   "codemirror_mode": {
    "name": "ipython",
    "version": 3
   },
   "file_extension": ".py",
   "mimetype": "text/x-python",
   "name": "python",
   "nbconvert_exporter": "python",
   "pygments_lexer": "ipython3",
   "version": "3.13.2"
  }
 },
 "nbformat": 4,
 "nbformat_minor": 5
}
