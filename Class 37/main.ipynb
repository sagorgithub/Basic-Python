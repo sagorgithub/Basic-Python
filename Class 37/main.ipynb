{
 "cells": [
  {
   "cell_type": "code",
   "execution_count": 11,
   "id": "e05be992",
   "metadata": {},
   "outputs": [],
   "source": [
    "# !pip install pytube"
   ]
  },
  {
   "cell_type": "code",
   "execution_count": 1,
   "id": "0c3229a8",
   "metadata": {},
   "outputs": [],
   "source": [
    "# from pytube import YouTube\n",
    "# def download_youtube_video(url, output_path='.'):\n",
    "#     yt_opts = {\n",
    "#         'format': 'best',\n",
    "#         'outtmpl': f'{output_path}/%(title)s.%(ext)s', \n",
    "#         'live_stream': True,\n",
    "#         'merage_output_format': 'mp4',\n",
    "#         'skip_existing': True,\n",
    "#     }\n",
    "#     with YouTube(yt_opts) as yt:\n",
    "#         yt.download([url])\n",
    "# # Example usage:\n",
    "# url = \"https://youtu.be/s9gG108zDh4?si=tFDhQ9X_8GD1y-FC\"\n",
    "# download_youtube_video(url, output_path ='.')\n",
    "\n"
   ]
  },
  {
   "cell_type": "code",
   "execution_count": 1,
   "id": "32f0cae1",
   "metadata": {},
   "outputs": [],
   "source": [
    "from pytube import YouTube"
   ]
  },
  {
   "cell_type": "code",
   "execution_count": 7,
   "id": "fadeef66",
   "metadata": {},
   "outputs": [],
   "source": [
    "# url = 'https://youtu.be/N8TuSqD7EcA'\n",
    "# yt = YouTube(url)"
   ]
  },
  {
   "cell_type": "code",
   "execution_count": 8,
   "id": "cd78ff8f",
   "metadata": {},
   "outputs": [],
   "source": [
    "# stream = yt.streams.get_highest_resolution()"
   ]
  },
  {
   "cell_type": "code",
   "execution_count": 2,
   "id": "75fd255d",
   "metadata": {},
   "outputs": [],
   "source": [
    "# stream.download()\n",
    "# print('Donwload Completed')"
   ]
  },
  {
   "cell_type": "code",
   "execution_count": 10,
   "id": "e0cde1b7",
   "metadata": {},
   "outputs": [
    {
     "name": "stdout",
     "output_type": "stream",
     "text": [
      "4000p not available!\n"
     ]
    }
   ],
   "source": [
    "stream = yt.streams.filter(progressive=True, res='720p').first()\n",
    "\n",
    "if stream:\n",
    "    stream.download()\n",
    "    print('Donwload Completed')\n",
    "else:\n",
    "    print('720p not available!')"
   ]
  },
  {
   "cell_type": "code",
   "execution_count": null,
   "id": "1d26b5b9",
   "metadata": {},
   "outputs": [],
   "source": [
    "stream = yt.streams.filter(progressive=True, res='4000p').first()\n",
    "\n",
    "if stream:\n",
    "    stream.download()\n",
    "    print('Donwload Completed')\n",
    "else:\n",
    "    print('4000p not available!')"
   ]
  }
 ],
 "metadata": {
  "kernelspec": {
   "display_name": "base",
   "language": "python",
   "name": "python3"
  },
  "language_info": {
   "codemirror_mode": {
    "name": "ipython",
    "version": 3
   },
   "file_extension": ".py",
   "mimetype": "text/x-python",
   "name": "python",
   "nbconvert_exporter": "python",
   "pygments_lexer": "ipython3",
   "version": "3.13.5"
  }
 },
 "nbformat": 4,
 "nbformat_minor": 5
}
