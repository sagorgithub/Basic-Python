{
 "cells": [
  {
   "cell_type": "markdown",
   "id": "9ccdcb55",
   "metadata": {},
   "source": [
    "Basic Python Class 2"
   ]
  },
  {
   "cell_type": "code",
   "execution_count": 1,
   "id": "1f84149f",
   "metadata": {},
   "outputs": [
    {
     "name": "stdout",
     "output_type": "stream",
     "text": [
      "tumi onek valo paro akhn ki korba\n"
     ]
    }
   ],
   "source": [
    "print(\"tumi onek valo paro\", 'akhn ki korba')"
   ]
  },
  {
   "cell_type": "code",
   "execution_count": 3,
   "id": "b773266f",
   "metadata": {},
   "outputs": [
    {
     "name": "stdout",
     "output_type": "stream",
     "text": [
      "sagor tumi valo acho python shikhar jonno apmke sagotom\n"
     ]
    }
   ],
   "source": [
    "print(\"sagor tumi valo acho\", 'python shikhar jonno apmke sagotom')"
   ]
  },
  {
   "cell_type": "code",
   "execution_count": 6,
   "id": "7b1a5a0a",
   "metadata": {},
   "outputs": [
    {
     "name": "stdout",
     "output_type": "stream",
     "text": [
      "sagor tumi valo acho & python shikhar jonno apmke sagotom\n"
     ]
    }
   ],
   "source": [
    "print(\"sagor tumi valo acho\", 'python shikhar jonno apmke sagotom', sep=' & ')"
   ]
  },
  {
   "cell_type": "code",
   "execution_count": null,
   "id": "27555e8e",
   "metadata": {},
   "outputs": [
    {
     "name": "stdout",
     "output_type": "stream",
     "text": [
      "sagor tumi valo acho & python shikhar jonno apmke sagotom\n"
     ]
    }
   ],
   "source": [
    "print(\"sagor tumi valo acho\", 'python shikhar jonno apmke sagotom', sep=' & ' end=' |')"
   ]
  }
 ],
 "metadata": {
  "kernelspec": {
   "display_name": "Python 3",
   "language": "python",
   "name": "python3"
  },
  "language_info": {
   "codemirror_mode": {
    "name": "ipython",
    "version": 3
   },
   "file_extension": ".py",
   "mimetype": "text/x-python",
   "name": "python",
   "nbconvert_exporter": "python",
   "pygments_lexer": "ipython3",
   "version": "3.13.2"
  }
 },
 "nbformat": 4,
 "nbformat_minor": 5
}
