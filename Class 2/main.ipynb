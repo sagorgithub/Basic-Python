{
 "cells": [
  {
   "cell_type": "markdown",
   "id": "9ccdcb55",
   "metadata": {},
   "source": [
    "Basic Python Class 2"
   ]
  },
  {
   "cell_type": "code",
   "execution_count": 1,
   "id": "1f84149f",
   "metadata": {},
   "outputs": [
    {
     "name": "stdout",
     "output_type": "stream",
     "text": [
      "tumi onek valo paro akhn ki korba\n"
     ]
    }
   ],
   "source": [
    "print(\"tumi onek valo paro\", 'akhn ki korba')"
   ]
  },
  {
   "cell_type": "code",
   "execution_count": 3,
   "id": "b773266f",
   "metadata": {},
   "outputs": [
    {
     "name": "stdout",
     "output_type": "stream",
     "text": [
      "sagor tumi valo acho python shikhar jonno apmke sagotom\n"
     ]
    }
   ],
   "source": [
    "print(\"sagor tumi valo acho\", 'python shikhar jonno apmke sagotom')"
   ]
  },
  {
   "cell_type": "code",
   "execution_count": 6,
   "id": "7b1a5a0a",
   "metadata": {},
   "outputs": [
    {
     "name": "stdout",
     "output_type": "stream",
     "text": [
      "sagor tumi valo acho & python shikhar jonno apmke sagotom\n"
     ]
    }
   ],
   "source": [
    "print(\"sagor tumi valo acho\", 'python shikhar jonno apmke sagotom', sep=' & ')"
   ]
  },
  {
   "cell_type": "code",
   "execution_count": 2,
   "id": "27555e8e",
   "metadata": {},
   "outputs": [
    {
     "name": "stdout",
     "output_type": "stream",
     "text": [
      "sagor tumi valo acho & python shikhar jonno apmke sagotom |"
     ]
    }
   ],
   "source": [
    "print(\"sagor tumi valo acho\", 'python shikhar jonno apmke sagotom', sep=' & ', end=' |');"
   ]
  },
  {
   "cell_type": "markdown",
   "id": "fdb04e6a",
   "metadata": {},
   "source": [
    "Variable"
   ]
  },
  {
   "cell_type": "code",
   "execution_count": 3,
   "id": "8dda4c5e",
   "metadata": {},
   "outputs": [
    {
     "name": "stdout",
     "output_type": "stream",
     "text": [
      "wifi cole aseche \n"
     ]
    }
   ],
   "source": [
    "ver = \"wifi cole aseche \"\n",
    "print(ver);\n"
   ]
  },
  {
   "cell_type": "code",
   "execution_count": 4,
   "id": "5f395ec6",
   "metadata": {},
   "outputs": [
    {
     "name": "stdout",
     "output_type": "stream",
     "text": [
      "wifi cole aseche Akhn code kora lagbe na sagor kaj koro onek kaj ase hate\n"
     ]
    }
   ],
   "source": [
    "print(ver + 'Akhn code kora lagbe na sagor kaj koro onek kaj ase hate')"
   ]
  },
  {
   "cell_type": "code",
   "execution_count": 11,
   "id": "6f514a18",
   "metadata": {},
   "outputs": [
    {
     "name": "stdout",
     "output_type": "stream",
     "text": [
      "sagor abbar karent cole geloakhn code korty paro\n"
     ]
    }
   ],
   "source": [
    "name = 'sagor'\n",
    "karent = 'abbar karent cole gelo'\n",
    "print(name +\" \"+ karent + 'akhn code korty paro')\n"
   ]
  },
  {
   "cell_type": "markdown",
   "id": "48cc01ea",
   "metadata": {},
   "source": [
    "#Memory"
   ]
  },
  {
   "cell_type": "code",
   "execution_count": 14,
   "id": "c7470294",
   "metadata": {},
   "outputs": [
    {
     "data": {
      "text/plain": [
       "2339778410544"
      ]
     },
     "execution_count": 14,
     "metadata": {},
     "output_type": "execute_result"
    }
   ],
   "source": [
    "\n",
    "id(karent)"
   ]
  },
  {
   "cell_type": "markdown",
   "id": "403654ea",
   "metadata": {},
   "source": [
    "Bits"
   ]
  },
  {
   "cell_type": "code",
   "execution_count": 16,
   "id": "e780f062",
   "metadata": {},
   "outputs": [
    {
     "data": {
      "text/plain": [
       "46"
      ]
     },
     "execution_count": 16,
     "metadata": {},
     "output_type": "execute_result"
    }
   ],
   "source": [
    "import sys\n",
    "sys.getsizeof(name)"
   ]
  },
  {
   "cell_type": "code",
   "execution_count": 11,
   "id": "e4769624",
   "metadata": {},
   "outputs": [
    {
     "name": "stdout",
     "output_type": "stream",
     "text": [
      "1000\n"
     ]
    }
   ],
   "source": [
    "x = 1000\n",
    "print(x)"
   ]
  },
  {
   "cell_type": "code",
   "execution_count": 12,
   "id": "96e8f787",
   "metadata": {},
   "outputs": [
    {
     "data": {
      "text/plain": [
       "2879721042352"
      ]
     },
     "execution_count": 12,
     "metadata": {},
     "output_type": "execute_result"
    }
   ],
   "source": [
    "id(x)"
   ]
  },
  {
   "cell_type": "code",
   "execution_count": 14,
   "id": "dc06dde3",
   "metadata": {},
   "outputs": [
    {
     "name": "stdout",
     "output_type": "stream",
     "text": [
      "1000\n"
     ]
    }
   ],
   "source": [
    "y = 1000\n",
    "print(y)"
   ]
  },
  {
   "cell_type": "code",
   "execution_count": 15,
   "id": "e598b9ad",
   "metadata": {},
   "outputs": [
    {
     "data": {
      "text/plain": [
       "2879721042288"
      ]
     },
     "execution_count": 15,
     "metadata": {},
     "output_type": "execute_result"
    }
   ],
   "source": [
    "id(y)"
   ]
  },
  {
   "cell_type": "code",
   "execution_count": 21,
   "id": "0d6ad743",
   "metadata": {},
   "outputs": [
    {
     "data": {
      "text/plain": [
       "2879721042352"
      ]
     },
     "execution_count": 21,
     "metadata": {},
     "output_type": "execute_result"
    }
   ],
   "source": [
    "\n",
    "id(x)"
   ]
  },
  {
   "cell_type": "markdown",
   "id": "f892d8c2",
   "metadata": {},
   "source": [
    "#Local vs Golobal Veriable"
   ]
  },
  {
   "cell_type": "code",
   "execution_count": 29,
   "id": "20fea538",
   "metadata": {},
   "outputs": [
    {
     "name": "stdout",
     "output_type": "stream",
     "text": [
      "my phone number :  5\n",
      "my phone number :  789632145\n"
     ]
    }
   ],
   "source": [
    "x = 789632145; #golobal veriable\n",
    "def function():\n",
    "    x = 5; #local\n",
    "    print('my phone number : ', x);\n",
    "function()\n",
    "    \n",
    "\n",
    "def function1():\n",
    "    print('my phone number : ', x);\n",
    "function1()"
   ]
  },
  {
   "cell_type": "code",
   "execution_count": 32,
   "id": "f6488e58",
   "metadata": {},
   "outputs": [
    {
     "name": "stdout",
     "output_type": "stream",
     "text": [
      "my phone number :  5\n",
      "my 2nd class 789632145\n"
     ]
    }
   ],
   "source": [
    "\n",
    "def function():\n",
    "    x = 5; #local\n",
    "    print('my phone number : ', x);\n",
    "function()\n",
    "print('my 2nd class',x)"
   ]
  },
  {
   "cell_type": "code",
   "execution_count": 35,
   "id": "86b8cd9b",
   "metadata": {},
   "outputs": [
    {
     "name": "stdout",
     "output_type": "stream",
     "text": [
      "my phone number :  8000\n",
      "my 2nd class :  8000\n"
     ]
    }
   ],
   "source": [
    "def function():\n",
    "    global x;\n",
    "    x = 8000;\n",
    "    print('my phone number : ', x);\n",
    "function()\n",
    "print('my 2nd class : ',x)"
   ]
  }
 ],
 "metadata": {
  "kernelspec": {
   "display_name": "Python 3",
   "language": "python",
   "name": "python3"
  },
  "language_info": {
   "codemirror_mode": {
    "name": "ipython",
    "version": 3
   },
   "file_extension": ".py",
   "mimetype": "text/x-python",
   "name": "python",
   "nbconvert_exporter": "python",
   "pygments_lexer": "ipython3",
   "version": "3.13.2"
  }
 },
 "nbformat": 4,
 "nbformat_minor": 5
}
