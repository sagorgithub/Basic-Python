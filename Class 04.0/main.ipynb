{
 "cells": [
  {
   "cell_type": "markdown",
   "id": "12fa6ff6",
   "metadata": {},
   "source": [
    "#<b>All About Data Type In Python</b> <br>\n",
    "#1. Numeric Data<br>\n",
    "#2. Boolean Data<br>\n",
    "#3. Sequence Data<br>\n",
    "#4. Set Data<br>\n",
    "#5. Mapping Data<br>\n",
    "#6. Data Frame<br>"
   ]
  },
  {
   "cell_type": "markdown",
   "id": "c36ad1a0",
   "metadata": {},
   "source": [
    "#<b>1. Numeric Data Types</b><br>\n",
    "#1. <b>Integers:</b> This value is represented by int. class. It contains positive or negative whole numbers<br>\n",
    "#2. <b>Float:</b> This value is represented by Float class. It is real number with floating point representation<br>\n",
    "#3. <b>Complex:</b> This value is represented by Complex class. It is specified as (real part)+(imaginary part)j"
   ]
  },
  {
   "cell_type": "markdown",
   "id": "af2ae151",
   "metadata": {},
   "source": [
    "#<b>2. Boolean Data Types</b><br>\n",
    "#1. <b>True:</b> Boolean Objects That are equal to True Are Truth (true)<br>\n",
    "#2. <b>False:</b> Boolean Objects Those equal to False Are False (False)<br>"
   ]
  },
  {
   "cell_type": "markdown",
   "id": "c2f5d772",
   "metadata": {},
   "source": [
    "#<b>3. Sequence Data Types</b><br>\n",
    "#1. <b>Lists:</b> Lists are used to store multiple items in a single variable.<br>\n",
    "#2. <b>Tuples:</b> Tuples are used to store multiple items in a single variable<br>\n",
    "#3. <b>Range:</b> The range() function returns a sequence of numbers, starting from 0 by default, and increments by 1 (by default), and stops before a specified number.<br>\n",
    "#4. <b>Arrays:</b> Arrays are sequence types and behave very much like lists.<br>\n",
    "#5. <b>String:</b> A string in Python is a sequence of characters. It is a derived data type. Strings are immutable. This means that once defined, they connot be changed."
   ]
  },
  {
   "cell_type": "markdown",
   "id": "80a3e5c2",
   "metadata": {},
   "source": [
    "#<b>4. Set Data Types</b><br>\n",
    "#1. <b>Frozenset:</b> The frozenset() function returns an immutable frozenset object initialized with elements from the given inerrable<br>\n",
    "#2. <b>Set:</b> A set is an unordered collection of items. every set element is unique (no duplicates) and must be immutable (connot be changed). However, a set itsekf is mutable<br>"
   ]
  },
  {
   "cell_type": "markdown",
   "id": "bc7b9a00",
   "metadata": {},
   "source": [
    "#<b>5. Mapping Data Types</b><br>\n",
    "#1. <b>Dictionary:</b> A dictionary is an unorderd and mutable Python container that stores mappings of unique keys to values. Dictionaries are written with curly brackets ({}) including key value pairs separated by commas (,). Acolon (:) separates each key from its value"
   ]
  },
  {
   "cell_type": "code",
   "execution_count": 3,
   "id": "0085c187",
   "metadata": {},
   "outputs": [],
   "source": [
    "#<b>1. Numeric Data Types</b><br>\n",
    "x = 50 #int\n",
    "y = 5.50 #float\n",
    "z = 50+5j #complex"
   ]
  },
  {
   "cell_type": "code",
   "execution_count": 4,
   "id": "b44ddece",
   "metadata": {},
   "outputs": [
    {
     "data": {
      "text/plain": [
       "int"
      ]
     },
     "execution_count": 4,
     "metadata": {},
     "output_type": "execute_result"
    }
   ],
   "source": [
    "type(x)"
   ]
  },
  {
   "cell_type": "code",
   "execution_count": 5,
   "id": "544fb8c5",
   "metadata": {},
   "outputs": [
    {
     "data": {
      "text/plain": [
       "float"
      ]
     },
     "execution_count": 5,
     "metadata": {},
     "output_type": "execute_result"
    }
   ],
   "source": [
    "type(y)"
   ]
  },
  {
   "cell_type": "code",
   "execution_count": 6,
   "id": "8fe456fe",
   "metadata": {},
   "outputs": [
    {
     "data": {
      "text/plain": [
       "complex"
      ]
     },
     "execution_count": 6,
     "metadata": {},
     "output_type": "execute_result"
    }
   ],
   "source": [
    "type(z)"
   ]
  },
  {
   "cell_type": "code",
   "execution_count": 7,
   "id": "00a5e33f",
   "metadata": {},
   "outputs": [
    {
     "data": {
      "text/plain": [
       "False"
      ]
     },
     "execution_count": 7,
     "metadata": {},
     "output_type": "execute_result"
    }
   ],
   "source": [
    "isinstance(x, complex)"
   ]
  },
  {
   "cell_type": "code",
   "execution_count": 8,
   "id": "4f2cd9d3",
   "metadata": {},
   "outputs": [
    {
     "data": {
      "text/plain": [
       "True"
      ]
     },
     "execution_count": 8,
     "metadata": {},
     "output_type": "execute_result"
    }
   ],
   "source": [
    "isinstance(z, complex)"
   ]
  },
  {
   "cell_type": "code",
   "execution_count": 12,
   "id": "0b082dd3",
   "metadata": {},
   "outputs": [
    {
     "name": "stdout",
     "output_type": "stream",
     "text": [
      "50.0\n"
     ]
    }
   ],
   "source": [
    "#int to float\n",
    "n = float(x);\n",
    "print(n)"
   ]
  },
  {
   "cell_type": "code",
   "execution_count": 13,
   "id": "4df25fa5",
   "metadata": {},
   "outputs": [
    {
     "data": {
      "text/plain": [
       "float"
      ]
     },
     "execution_count": 13,
     "metadata": {},
     "output_type": "execute_result"
    }
   ],
   "source": [
    "type(n)"
   ]
  },
  {
   "cell_type": "code",
   "execution_count": 14,
   "id": "c5cf1d44",
   "metadata": {},
   "outputs": [
    {
     "data": {
      "text/plain": [
       "int"
      ]
     },
     "execution_count": 14,
     "metadata": {},
     "output_type": "execute_result"
    }
   ],
   "source": [
    "n = int(n)\n",
    "type(n)"
   ]
  },
  {
   "cell_type": "code",
   "execution_count": 15,
   "id": "6812b9d4",
   "metadata": {},
   "outputs": [
    {
     "name": "stdout",
     "output_type": "stream",
     "text": [
      "(50+0j)\n"
     ]
    }
   ],
   "source": [
    "#int to Complex\n",
    "n = complex(x);\n",
    "print(n)"
   ]
  },
  {
   "cell_type": "code",
   "execution_count": 16,
   "id": "29e12429",
   "metadata": {},
   "outputs": [
    {
     "data": {
      "text/plain": [
       "complex"
      ]
     },
     "execution_count": 16,
     "metadata": {},
     "output_type": "execute_result"
    }
   ],
   "source": [
    "type(n)"
   ]
  }
 ],
 "metadata": {
  "kernelspec": {
   "display_name": "Python 3",
   "language": "python",
   "name": "python3"
  },
  "language_info": {
   "codemirror_mode": {
    "name": "ipython",
    "version": 3
   },
   "file_extension": ".py",
   "mimetype": "text/x-python",
   "name": "python",
   "nbconvert_exporter": "python",
   "pygments_lexer": "ipython3",
   "version": "3.13.2"
  }
 },
 "nbformat": 4,
 "nbformat_minor": 5
}
