{
 "cells": [
  {
   "cell_type": "markdown",
   "id": "9456959d",
   "metadata": {},
   "source": [
    "# The Factorial"
   ]
  },
  {
   "cell_type": "code",
   "execution_count": 1,
   "id": "8007a427",
   "metadata": {},
   "outputs": [],
   "source": [
    "def fact(x):\n",
    "    \n",
    "    result = 1\n",
    "    \n",
    "    if x==1 or x==0:\n",
    "        print(f'The {x}! is = 1')\n",
    "        \n",
    "    else:\n",
    "        \n",
    "        for i in range(x):\n",
    "            result = result * (i+1)\n",
    "            \n",
    "        return result"
   ]
  },
  {
   "cell_type": "code",
   "execution_count": 2,
   "id": "79043235",
   "metadata": {},
   "outputs": [
    {
     "data": {
      "text/plain": [
       "120"
      ]
     },
     "execution_count": 2,
     "metadata": {},
     "output_type": "execute_result"
    }
   ],
   "source": [
    "fact(5)"
   ]
  }
 ],
 "metadata": {
  "kernelspec": {
   "display_name": "Python 3 (ipykernel)",
   "language": "python",
   "name": "python3"
  },
  "language_info": {
   "codemirror_mode": {
    "name": "ipython",
    "version": 3
   },
   "file_extension": ".py",
   "mimetype": "text/x-python",
   "name": "python",
   "nbconvert_exporter": "python",
   "pygments_lexer": "ipython3",
   "version": "3.9.13"
  }
 },
 "nbformat": 4,
 "nbformat_minor": 5
}
