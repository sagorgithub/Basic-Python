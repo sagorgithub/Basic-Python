{
 "cells": [
  {
   "cell_type": "markdown",
   "id": "ef1f1eec",
   "metadata": {},
   "source": [
    "<b>Operators In Python</b></br>\n",
    "#1. Arithmrtic Operators<br>\n",
    "#2. Identity Operators<br>\n",
    "#3. Bitwise Operators<br>\n",
    "#4. Comparison Operators<br>\n",
    "#5. Logical Operators<br>\n",
    "#6. Assignment Operators<br>"
   ]
  },
  {
   "cell_type": "markdown",
   "id": "61506346",
   "metadata": {},
   "source": [
    "<b>#1. Arithmrtic Operators</b></br>\n",
    "    #Addition(+) #x+y</br>\n",
    "    #Subtraction(-) #(x-y)</br>\n",
    "    #Multiplication(*) #x*y</br>\n",
    "    #division(/) #x/y</br>\n",
    "    #Modulus(%) #x%y</br>\n",
    "    #Exponentiation(**) #x**y</br>\n",
    "    #Floor Division(//) #x//y</br>"
   ]
  },
  {
   "cell_type": "code",
   "execution_count": 20,
   "id": "513674f8",
   "metadata": {},
   "outputs": [
    {
     "data": {
      "text/plain": [
       "45"
      ]
     },
     "execution_count": 20,
     "metadata": {},
     "output_type": "execute_result"
    }
   ],
   "source": [
    "#Addition Operators\n",
    "x = 30\n",
    "y = 15\n",
    "x + y"
   ]
  },
  {
   "cell_type": "code",
   "execution_count": 21,
   "id": "b6c0bc3d",
   "metadata": {},
   "outputs": [
    {
     "data": {
      "text/plain": [
       "15"
      ]
     },
     "execution_count": 21,
     "metadata": {},
     "output_type": "execute_result"
    }
   ],
   "source": [
    "#Subtraction(-) #(x-y)\n",
    "x - y"
   ]
  },
  {
   "cell_type": "code",
   "execution_count": 22,
   "id": "55d3e893",
   "metadata": {},
   "outputs": [
    {
     "data": {
      "text/plain": [
       "450"
      ]
     },
     "execution_count": 22,
     "metadata": {},
     "output_type": "execute_result"
    }
   ],
   "source": [
    "#Multiplication(*) #x*y\n",
    "x * y"
   ]
  },
  {
   "cell_type": "code",
   "execution_count": 23,
   "id": "1dba15d1",
   "metadata": {},
   "outputs": [
    {
     "data": {
      "text/plain": [
       "2.0"
      ]
     },
     "execution_count": 23,
     "metadata": {},
     "output_type": "execute_result"
    }
   ],
   "source": [
    "#division(/) #x/y\n",
    "x / y"
   ]
  },
  {
   "cell_type": "code",
   "execution_count": 24,
   "id": "001d9705",
   "metadata": {},
   "outputs": [
    {
     "data": {
      "text/plain": [
       "0"
      ]
     },
     "execution_count": 24,
     "metadata": {},
     "output_type": "execute_result"
    }
   ],
   "source": [
    "#Modulus(%) #x%y\n",
    "x % y"
   ]
  },
  {
   "cell_type": "code",
   "execution_count": 25,
   "id": "a42396d7",
   "metadata": {},
   "outputs": [
    {
     "data": {
      "text/plain": [
       "14348907000000000000000"
      ]
     },
     "execution_count": 25,
     "metadata": {},
     "output_type": "execute_result"
    }
   ],
   "source": [
    "#Exponentiation(**) #x**y\n",
    "x ** y"
   ]
  },
  {
   "cell_type": "code",
   "execution_count": 26,
   "id": "50cd7e0d",
   "metadata": {},
   "outputs": [
    {
     "data": {
      "text/plain": [
       "2"
      ]
     },
     "execution_count": 26,
     "metadata": {},
     "output_type": "execute_result"
    }
   ],
   "source": [
    "#Floor Division(//) #x//y\n",
    "x // y"
   ]
  },
  {
   "cell_type": "markdown",
   "id": "13e2f8b5",
   "metadata": {},
   "source": [
    "<b>#1. Identity Operators</b></br>\n",
    "#<b>Is: </b>is-Returns true if both variables are the same object. (x is y)</br>\n",
    "#<b>is not: </b> is not - Returns true if both variables are not the same Object (x is not y)"
   ]
  },
  {
   "cell_type": "markdown",
   "id": "949cf0b7",
   "metadata": {},
   "source": [
    "<b>Is: </b>"
   ]
  },
  {
   "cell_type": "code",
   "execution_count": 27,
   "id": "c4e8d680",
   "metadata": {},
   "outputs": [
    {
     "data": {
      "text/plain": [
       "True"
      ]
     },
     "execution_count": 27,
     "metadata": {},
     "output_type": "execute_result"
    }
   ],
   "source": [
    "#Identity Operators <b>Is: </b>\n",
    "x = 20\n",
    "y = 20\n",
    "x is y"
   ]
  },
  {
   "cell_type": "code",
   "execution_count": 31,
   "id": "cfa5d1de",
   "metadata": {},
   "outputs": [
    {
     "data": {
      "text/plain": [
       "True"
      ]
     },
     "execution_count": 31,
     "metadata": {},
     "output_type": "execute_result"
    }
   ],
   "source": [
    "x == y"
   ]
  },
  {
   "cell_type": "markdown",
   "id": "f430018d",
   "metadata": {},
   "source": [
    "<b>Is Not: </b>"
   ]
  },
  {
   "cell_type": "code",
   "execution_count": 30,
   "id": "0f8d6245",
   "metadata": {},
   "outputs": [
    {
     "data": {
      "text/plain": [
       "False"
      ]
     },
     "execution_count": 30,
     "metadata": {},
     "output_type": "execute_result"
    }
   ],
   "source": [
    "#Identity Operators <b>Is Not: </b>\n",
    "x = 20\n",
    "y = 20\n",
    "x is not y"
   ]
  },
  {
   "cell_type": "markdown",
   "id": "d0d96b10",
   "metadata": {},
   "source": [
    "<b>Python Membership Operator </b>"
   ]
  },
  {
   "cell_type": "code",
   "execution_count": 32,
   "id": "d7253ec7",
   "metadata": {},
   "outputs": [
    {
     "data": {
      "text/plain": [
       "True"
      ]
     },
     "execution_count": 32,
     "metadata": {},
     "output_type": "execute_result"
    }
   ],
   "source": [
    "#Python Membership Operator\n",
    "list = [1,2,3,4,5,6,7]\n",
    "1 in list"
   ]
  },
  {
   "cell_type": "code",
   "execution_count": 33,
   "id": "99f131f6",
   "metadata": {},
   "outputs": [
    {
     "data": {
      "text/plain": [
       "True"
      ]
     },
     "execution_count": 33,
     "metadata": {},
     "output_type": "execute_result"
    }
   ],
   "source": [
    "10 not in list"
   ]
  },
  {
   "cell_type": "code",
   "execution_count": 34,
   "id": "20ea961f",
   "metadata": {},
   "outputs": [
    {
     "data": {
      "text/plain": [
       "False"
      ]
     },
     "execution_count": 34,
     "metadata": {},
     "output_type": "execute_result"
    }
   ],
   "source": [
    "15 in list"
   ]
  },
  {
   "cell_type": "code",
   "execution_count": 35,
   "id": "24c68706",
   "metadata": {},
   "outputs": [
    {
     "data": {
      "text/plain": [
       "True"
      ]
     },
     "execution_count": 35,
     "metadata": {},
     "output_type": "execute_result"
    }
   ],
   "source": [
    "st = {1,2,3,4,5,6,7}\n",
    "1 in list"
   ]
  },
  {
   "cell_type": "code",
   "execution_count": 37,
   "id": "00ce2fcc",
   "metadata": {},
   "outputs": [
    {
     "data": {
      "text/plain": [
       "True"
      ]
     },
     "execution_count": 37,
     "metadata": {},
     "output_type": "execute_result"
    }
   ],
   "source": [
    "10 not in st"
   ]
  },
  {
   "cell_type": "code",
   "execution_count": 38,
   "id": "dadb08a6",
   "metadata": {},
   "outputs": [
    {
     "data": {
      "text/plain": [
       "False"
      ]
     },
     "execution_count": 38,
     "metadata": {},
     "output_type": "execute_result"
    }
   ],
   "source": [
    "15 in st"
   ]
  },
  {
   "cell_type": "markdown",
   "id": "2a6dcebf",
   "metadata": {},
   "source": [
    "<b>#3. Bitwise Operators</b></br>\n",
    "#<b>& (AND) </b>Set each bit to 1 if both bits are 1</br>\n",
    "#<b>| OR: </b> Set each bit to 1 if one of two bits is 1</br>\n",
    "#<b>^ XOR: </b> Set each bit to 1 if only one of two bits is 1</br>\n",
    "#<b>~ NOT: </b> Inverts all the bits</br>\n",
    "#<b><< Zero file left shift: </b> Shift left by pushing zeros in from the right and let the leftmost bits fall off shift</br>\n",
    "#<b>>> Signed right shift: </b> Shift right by pushing copies of the leftmost bit in from the left, and let the rightmost bits fall off</br>"
   ]
  },
  {
   "cell_type": "code",
   "execution_count": 43,
   "id": "2fc0f1c1",
   "metadata": {},
   "outputs": [
    {
     "data": {
      "text/plain": [
       "15"
      ]
     },
     "execution_count": 43,
     "metadata": {},
     "output_type": "execute_result"
    }
   ],
   "source": [
    "#3. Bitwise Operators\n",
    "x = 10 \n",
    "y = 5\n",
    "x | y"
   ]
  },
  {
   "cell_type": "code",
   "execution_count": 42,
   "id": "a804e902",
   "metadata": {},
   "outputs": [
    {
     "data": {
      "text/plain": [
       "0"
      ]
     },
     "execution_count": 42,
     "metadata": {},
     "output_type": "execute_result"
    }
   ],
   "source": [
    "x & y"
   ]
  }
 ],
 "metadata": {
  "kernelspec": {
   "display_name": "Python 3",
   "language": "python",
   "name": "python3"
  },
  "language_info": {
   "codemirror_mode": {
    "name": "ipython",
    "version": 3
   },
   "file_extension": ".py",
   "mimetype": "text/x-python",
   "name": "python",
   "nbconvert_exporter": "python",
   "pygments_lexer": "ipython3",
   "version": "3.13.2"
  }
 },
 "nbformat": 4,
 "nbformat_minor": 5
}
